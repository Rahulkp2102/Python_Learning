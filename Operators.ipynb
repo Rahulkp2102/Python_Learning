{
  "nbformat": 4,
  "nbformat_minor": 0,
  "metadata": {
    "colab": {
      "provenance": []
    },
    "kernelspec": {
      "name": "python3",
      "display_name": "Python 3"
    },
    "language_info": {
      "name": "python"
    }
  },
  "cells": [
    {
      "cell_type": "code",
      "execution_count": 1,
      "metadata": {
        "id": "kv81gNI39id2"
      },
      "outputs": [],
      "source": [
        "# Type Operators\n",
        "\n",
        "# Arithmetic operators\n",
        "# + : Addition - Adds two operands\n",
        "# - : Subtraction - Subtracts the second operand from the first\n",
        "# * : Multiplication - Multiplies two operands\n",
        "# / : Division - Divides the first operand by the second\n",
        "# % : Modulus - Returns the remainder of the division\n",
        "# ** : Exponentiation - Raises the first operand to the power of the second\n",
        "# // : Floor Division - Divides and returns the integer value of the quotient\n",
        "\n",
        "# Assignment operators\n",
        "# = : Assignment - Assigns the value of the right operand to the left operand\n",
        "# += : Add AND Assignment - Adds the right operand to the left operand and assigns the result to the left operand\n",
        "# -= : Subtract AND Assignment - Subtracts the right operand from the left operand and assigns the result to the left operand\n",
        "\n",
        "# Relational operators\n",
        "# == : Equal to - Returns True if both operands are equal\n",
        "# != : Not equal to - Returns True if operands are not equal\n",
        "# > : Greater than - Returns True if the left operand is greater than the right operand\n",
        "# < : Less than - Returns True if the left operand is less than the right operand\n",
        "# >= : Greater than or equal to - Returns True if the left operand is greater than or equal to the right operand\n",
        "# <= : Less than or equal to - Returns True if the left operand is less than or equal to the right operand\n",
        "\n",
        "# Logical operators\n",
        "# and : Logical AND - Returns True if both operands are True\n",
        "# or : Logical OR - Returns True if either operand is True\n",
        "# not : Logical NOT - Returns True if the operand is False\n",
        "\n",
        "# Bitwise operators\n",
        "# & : Bitwise AND - Performs bitwise AND operation\n",
        "# | : Bitwise OR - Performs bitwise OR operation\n",
        "# ^ : Bitwise XOR - Performs bitwise XOR operation\n",
        "# ~ : Bitwise NOT - Performs bitwise NOT operation\n",
        "# << : Bitwise Left Shift - Shifts the bits to the left\n",
        "# >> : Bitwise Right Shift - Shifts the bits to the right"
      ]
    },
    {
      "cell_type": "code",
      "source": [
        "# Arithmetic operators\n",
        "a = 10\n",
        "b = 5\n",
        "print(f\"a + b = {a + b}\")\n",
        "print(f\"a - b = {a - b}\")\n",
        "print(f\"a * b = {a * b}\")\n",
        "print(f\"a / b = {a / b}\")\n",
        "print(f\"a % b = {a % b}\")\n",
        "print(f\"a ** b = {a ** b}\")\n",
        "print(f\"a // b = {a // b}\")"
      ],
      "metadata": {
        "colab": {
          "base_uri": "https://localhost:8080/"
        },
        "id": "l2qAckyv_ttk",
        "outputId": "22d7dbfc-c2ac-4817-e1fe-7041d5f67b0c"
      },
      "execution_count": 2,
      "outputs": [
        {
          "output_type": "stream",
          "name": "stdout",
          "text": [
            "a + b = 15\n",
            "a - b = 5\n",
            "a * b = 50\n",
            "a / b = 2.0\n",
            "a % b = 0\n",
            "a ** b = 100000\n",
            "a // b = 2\n"
          ]
        }
      ]
    },
    {
      "cell_type": "code",
      "source": [
        "# Assignment operators\n",
        "c = 10\n",
        "c += 5\n",
        "print(f\"c after += 5: {c}\")\n",
        "c -= 5\n",
        "print(f\"c after -= 5: {c}\")"
      ],
      "metadata": {
        "colab": {
          "base_uri": "https://localhost:8080/"
        },
        "id": "iHP-mPk2AUNE",
        "outputId": "b1565aac-6b75-4efc-c935-eb9dea2be1b3"
      },
      "execution_count": 3,
      "outputs": [
        {
          "output_type": "stream",
          "name": "stdout",
          "text": [
            "c after += 5: 15\n",
            "c after -= 5: 10\n"
          ]
        }
      ]
    },
    {
      "cell_type": "code",
      "source": [
        "# Relational operators\n",
        "x = 10\n",
        "y = 12\n",
        "print(f\"x == y: {x == y}\")\n",
        "print(f\"x != y: {x != y}\")\n",
        "print(f\"x > y: {x > y}\")\n",
        "print(f\"x < y: {x < y}\")\n",
        "print(f\"x >= y: {x >= y}\")\n",
        "print(f\"x <= y: {x <= y}\")\n"
      ],
      "metadata": {
        "colab": {
          "base_uri": "https://localhost:8080/"
        },
        "id": "FNOlvzS1Aef0",
        "outputId": "1611b7e2-8b4e-4751-f9b7-1b87c44ab483"
      },
      "execution_count": 4,
      "outputs": [
        {
          "output_type": "stream",
          "name": "stdout",
          "text": [
            "x == y: False\n",
            "x != y: True\n",
            "x > y: False\n",
            "x < y: True\n",
            "x >= y: False\n",
            "x <= y: True\n"
          ]
        }
      ]
    },
    {
      "cell_type": "code",
      "source": [
        "# Logical operators\n",
        "p = True\n",
        "q = False\n",
        "print(f\"p and q: {p and q}\")\n",
        "print(f\"p or q: {p or q}\")\n",
        "print(f\"not p: {not p}\")\n"
      ],
      "metadata": {
        "colab": {
          "base_uri": "https://localhost:8080/"
        },
        "id": "1Y703tYHAmkg",
        "outputId": "67ca2813-704b-4734-89d0-e79d106b7f3c"
      },
      "execution_count": 5,
      "outputs": [
        {
          "output_type": "stream",
          "name": "stdout",
          "text": [
            "p and q: False\n",
            "p or q: True\n",
            "not p: False\n"
          ]
        }
      ]
    },
    {
      "cell_type": "code",
      "source": [
        "# Bitwise operators\n",
        "m = 6  # 110 in binary\n",
        "n = 3  # 011 in binary\n",
        "print(f\"m & n: {m & n}\")\n",
        "print(f\"m | n: {m | n}\")\n",
        "print(f\"m ^ n: {m ^ n}\")\n",
        "print(f\"~m: {~m}\")\n",
        "print(f\"m << 2: {m << 2}\")\n",
        "print(f\"m >> 2: {m >> 2}\")"
      ],
      "metadata": {
        "colab": {
          "base_uri": "https://localhost:8080/"
        },
        "id": "a0xWs1LaAsCD",
        "outputId": "513ef227-709f-41bc-fbfd-62e0522cd5f7"
      },
      "execution_count": 6,
      "outputs": [
        {
          "output_type": "stream",
          "name": "stdout",
          "text": [
            "m & n: 2\n",
            "m | n: 7\n",
            "m ^ n: 5\n",
            "~m: -7\n",
            "m << 2: 24\n",
            "m >> 2: 1\n"
          ]
        }
      ]
    },
    {
      "cell_type": "code",
      "source": [
        "# Examples with different data types\n",
        "\n",
        "# Integer\n",
        "int_a = 10\n",
        "int_b = 5\n",
        "print(f\"Integer addition: {int_a + int_b}\")\n",
        "\n",
        "# String\n",
        "str_a = \"Hello\"\n",
        "str_b = \"World\"\n",
        "print(f\"String concatenation: {str_a + ' ' + str_b}\")\n",
        "\n",
        "# Float\n",
        "float_a = 10.5\n",
        "float_b = 2.5\n",
        "print(f\"Float multiplication: {float_a * float_b}\")"
      ],
      "metadata": {
        "colab": {
          "base_uri": "https://localhost:8080/"
        },
        "id": "47reHZRBAyhf",
        "outputId": "7fa05f3a-73e6-4c55-e492-0b6667530cf2"
      },
      "execution_count": 7,
      "outputs": [
        {
          "output_type": "stream",
          "name": "stdout",
          "text": [
            "Integer addition: 15\n",
            "String concatenation: Hello World\n",
            "Float multiplication: 26.25\n"
          ]
        }
      ]
    },
    {
      "cell_type": "code",
      "source": [
        "print(\"hello world's\")\n",
        "print('hello world\\'s') #Using a backward \\ to not consider the special character (')\n",
        "print('c:download\\new folder') # n is removed\n",
        "print('c:download\\nnew folder') # here is the aditional n represent the line end\n",
        "print(r'c:download\\new folder')"
      ],
      "metadata": {
        "colab": {
          "base_uri": "https://localhost:8080/"
        },
        "id": "tAFN3VftBOOX",
        "outputId": "82ab2049-0e3b-44af-f47a-cc270306cad6"
      },
      "execution_count": 15,
      "outputs": [
        {
          "output_type": "stream",
          "name": "stdout",
          "text": [
            "hello world's\n",
            "hello world's\n",
            "c:download\n",
            "ew folder\n",
            "c:download\n",
            "new folder\n",
            "c:download\\new folder\n"
          ]
        }
      ]
    },
    {
      "cell_type": "code",
      "source": [],
      "metadata": {
        "id": "UJzXDhQnCXTn"
      },
      "execution_count": null,
      "outputs": []
    }
  ]
}