{
  "nbformat": 4,
  "nbformat_minor": 0,
  "metadata": {
    "colab": {
      "provenance": []
    },
    "kernelspec": {
      "name": "python3",
      "display_name": "Python 3"
    },
    "language_info": {
      "name": "python"
    }
  },
  "cells": [
    {
      "cell_type": "code",
      "execution_count": 2,
      "metadata": {
        "colab": {
          "base_uri": "https://localhost:8080/"
        },
        "id": "YEUPK_WwlhZS",
        "outputId": "26b5dac1-b7b7-4156-f757-f82bc7c9a2bf"
      },
      "outputs": [
        {
          "output_type": "stream",
          "name": "stdout",
          "text": [
            "   column1 column2\n",
            "0        a   apple\n",
            "1        a     ant\n",
            "2        a   arrow\n",
            "3        b    ball\n",
            "4        b     bat\n",
            "5        b    boat\n",
            "6        c     cat\n",
            "7        c     car\n",
            "8        c     cup\n",
            "9        d     dog\n",
            "10       d    door\n"
          ]
        }
      ],
      "source": [
        "import pandas as pd\n",
        "\n",
        "data = {\n",
        "    \"column1\": [\"a\", \"a\", \"a\", \"b\", \"b\", \"b\", \"c\", \"c\", \"c\", \"d\", \"d\"],\n",
        "    \"column2\": [\n",
        "        \"apple\", \"ant\", \"arrow\",\n",
        "        \"ball\", \"bat\", \"boat\",\n",
        "        \"cat\", \"car\", \"cup\",\n",
        "        \"dog\", \"door\"\n",
        "    ]\n",
        "}\n",
        "\n",
        "df = pd.DataFrame(data)\n",
        "print(df)"
      ]
    },
    {
      "cell_type": "code",
      "source": [
        "df = df.groupby(\"column1\")[\"column2\"].apply(lambda x: \"|\".join(x))"
      ],
      "metadata": {
        "id": "DGlLu6xXl3UI"
      },
      "execution_count": 12,
      "outputs": []
    },
    {
      "cell_type": "code",
      "source": [
        "for index, row in df.iterrows():\n",
        "  for words in row['column2']:\n",
        "    words.split('|')"
      ],
      "metadata": {
        "id": "jtIXNLxf7p_W"
      },
      "execution_count": 8,
      "outputs": []
    },
    {
      "cell_type": "code",
      "source": [
        "df"
      ],
      "metadata": {
        "colab": {
          "base_uri": "https://localhost:8080/",
          "height": 241
        },
        "id": "Cw8qvnp28cZe",
        "outputId": "c1036012-4f3e-4ba3-d626-50706b820f7d"
      },
      "execution_count": 13,
      "outputs": [
        {
          "output_type": "execute_result",
          "data": {
            "text/plain": [
              "column1\n",
              "a    apple|ant|arrow\n",
              "b      ball|bat|boat\n",
              "c        cat|car|cup\n",
              "d           dog|door\n",
              "Name: column2, dtype: object"
            ],
            "text/html": [
              "<div>\n",
              "<style scoped>\n",
              "    .dataframe tbody tr th:only-of-type {\n",
              "        vertical-align: middle;\n",
              "    }\n",
              "\n",
              "    .dataframe tbody tr th {\n",
              "        vertical-align: top;\n",
              "    }\n",
              "\n",
              "    .dataframe thead th {\n",
              "        text-align: right;\n",
              "    }\n",
              "</style>\n",
              "<table border=\"1\" class=\"dataframe\">\n",
              "  <thead>\n",
              "    <tr style=\"text-align: right;\">\n",
              "      <th></th>\n",
              "      <th>column2</th>\n",
              "    </tr>\n",
              "    <tr>\n",
              "      <th>column1</th>\n",
              "      <th></th>\n",
              "    </tr>\n",
              "  </thead>\n",
              "  <tbody>\n",
              "    <tr>\n",
              "      <th>a</th>\n",
              "      <td>apple|ant|arrow</td>\n",
              "    </tr>\n",
              "    <tr>\n",
              "      <th>b</th>\n",
              "      <td>ball|bat|boat</td>\n",
              "    </tr>\n",
              "    <tr>\n",
              "      <th>c</th>\n",
              "      <td>cat|car|cup</td>\n",
              "    </tr>\n",
              "    <tr>\n",
              "      <th>d</th>\n",
              "      <td>dog|door</td>\n",
              "    </tr>\n",
              "  </tbody>\n",
              "</table>\n",
              "</div><br><label><b>dtype:</b> object</label>"
            ]
          },
          "metadata": {},
          "execution_count": 13
        }
      ]
    },
    {
      "cell_type": "code",
      "metadata": {
        "colab": {
          "base_uri": "https://localhost:8080/"
        },
        "id": "2fe59034",
        "outputId": "c55c31eb-177f-47bf-eb14-0bc35fb6b005"
      },
      "source": [
        "df = df.reset_index()\n",
        "df['column2'] = df['column2'].str.split('|')\n",
        "df = df.explode('column2')\n",
        "print(df)"
      ],
      "execution_count": 15,
      "outputs": [
        {
          "output_type": "stream",
          "name": "stdout",
          "text": [
            "  column1 column2\n",
            "0       a   apple\n",
            "0       a     ant\n",
            "0       a   arrow\n",
            "1       b    ball\n",
            "1       b     bat\n",
            "1       b    boat\n",
            "2       c     cat\n",
            "2       c     car\n",
            "2       c     cup\n",
            "3       d     dog\n",
            "3       d    door\n"
          ]
        }
      ]
    }
  ]
}